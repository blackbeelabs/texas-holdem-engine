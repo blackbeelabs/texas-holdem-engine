{
 "cells": [
  {
   "cell_type": "code",
   "execution_count": 1,
   "id": "8e520564",
   "metadata": {},
   "outputs": [],
   "source": [
    "# from engine.deck import Deck\n",
    "from engine.deck import Deck"
   ]
  },
  {
   "cell_type": "code",
   "execution_count": 2,
   "id": "afb91433",
   "metadata": {},
   "outputs": [],
   "source": [
    "deck = Deck()"
   ]
  },
  {
   "cell_type": "code",
   "execution_count": 3,
   "id": "9ad3166f",
   "metadata": {},
   "outputs": [
    {
     "name": "stdout",
     "output_type": "stream",
     "text": [
      "Card(rank=4, suit=Hearts, card_name=4-Hearts, rank_value=4)\n",
      "Card(rank=K, suit=Spades, card_name=K-Spades, rank_value=13)\n",
      "Card(rank=9, suit=Hearts, card_name=9-Hearts, rank_value=9)\n",
      "Card(rank=2, suit=Spades, card_name=2-Spades, rank_value=2)\n",
      "Card(rank=9, suit=Spades, card_name=9-Spades, rank_value=9)\n",
      "Card(rank=7, suit=Clubs, card_name=7-Clubs, rank_value=7)\n",
      "Card(rank=2, suit=Clubs, card_name=2-Clubs, rank_value=2)\n",
      "Card(rank=6, suit=Diamonds, card_name=6-Diamonds, rank_value=6)\n",
      "Card(rank=8, suit=Diamonds, card_name=8-Diamonds, rank_value=8)\n",
      "Card(rank=K, suit=Hearts, card_name=K-Hearts, rank_value=13)\n",
      "Card(rank=5, suit=Clubs, card_name=5-Clubs, rank_value=5)\n",
      "Card(rank=6, suit=Spades, card_name=6-Spades, rank_value=6)\n",
      "Card(rank=6, suit=Hearts, card_name=6-Hearts, rank_value=6)\n",
      "Card(rank=3, suit=Spades, card_name=3-Spades, rank_value=3)\n",
      "Card(rank=J, suit=Clubs, card_name=J-Clubs, rank_value=11)\n",
      "Card(rank=4, suit=Clubs, card_name=4-Clubs, rank_value=4)\n",
      "Card(rank=3, suit=Diamonds, card_name=3-Diamonds, rank_value=3)\n",
      "Card(rank=3, suit=Hearts, card_name=3-Hearts, rank_value=3)\n",
      "Card(rank=A, suit=Spades, card_name=A-Spades, rank_value=14)\n",
      "Card(rank=7, suit=Diamonds, card_name=7-Diamonds, rank_value=7)\n",
      "Card(rank=6, suit=Clubs, card_name=6-Clubs, rank_value=6)\n",
      "Card(rank=8, suit=Hearts, card_name=8-Hearts, rank_value=8)\n",
      "Card(rank=K, suit=Clubs, card_name=K-Clubs, rank_value=13)\n",
      "Card(rank=A, suit=Hearts, card_name=A-Hearts, rank_value=14)\n",
      "Card(rank=10, suit=Diamonds, card_name=10-Diamonds, rank_value=10)\n",
      "Card(rank=Q, suit=Hearts, card_name=Q-Hearts, rank_value=12)\n",
      "Card(rank=2, suit=Hearts, card_name=2-Hearts, rank_value=2)\n",
      "Card(rank=9, suit=Clubs, card_name=9-Clubs, rank_value=9)\n",
      "Card(rank=Q, suit=Diamonds, card_name=Q-Diamonds, rank_value=12)\n",
      "Card(rank=5, suit=Hearts, card_name=5-Hearts, rank_value=5)\n",
      "Card(rank=8, suit=Clubs, card_name=8-Clubs, rank_value=8)\n",
      "Card(rank=5, suit=Diamonds, card_name=5-Diamonds, rank_value=5)\n",
      "Card(rank=3, suit=Clubs, card_name=3-Clubs, rank_value=3)\n",
      "Card(rank=Q, suit=Clubs, card_name=Q-Clubs, rank_value=12)\n",
      "Card(rank=J, suit=Hearts, card_name=J-Hearts, rank_value=11)\n",
      "Card(rank=5, suit=Spades, card_name=5-Spades, rank_value=5)\n",
      "Card(rank=10, suit=Spades, card_name=10-Spades, rank_value=10)\n",
      "Card(rank=A, suit=Diamonds, card_name=A-Diamonds, rank_value=14)\n",
      "Card(rank=A, suit=Clubs, card_name=A-Clubs, rank_value=14)\n",
      "Card(rank=J, suit=Diamonds, card_name=J-Diamonds, rank_value=11)\n",
      "Card(rank=7, suit=Hearts, card_name=7-Hearts, rank_value=7)\n",
      "Card(rank=7, suit=Spades, card_name=7-Spades, rank_value=7)\n",
      "Card(rank=8, suit=Spades, card_name=8-Spades, rank_value=8)\n",
      "Card(rank=2, suit=Diamonds, card_name=2-Diamonds, rank_value=2)\n",
      "Card(rank=K, suit=Diamonds, card_name=K-Diamonds, rank_value=13)\n",
      "Card(rank=J, suit=Spades, card_name=J-Spades, rank_value=11)\n",
      "Card(rank=4, suit=Diamonds, card_name=4-Diamonds, rank_value=4)\n",
      "Card(rank=Q, suit=Spades, card_name=Q-Spades, rank_value=12)\n",
      "Card(rank=9, suit=Diamonds, card_name=9-Diamonds, rank_value=9)\n",
      "Card(rank=10, suit=Hearts, card_name=10-Hearts, rank_value=10)\n",
      "Card(rank=10, suit=Clubs, card_name=10-Clubs, rank_value=10)\n",
      "Card(rank=4, suit=Spades, card_name=4-Spades, rank_value=4)\n"
     ]
    }
   ],
   "source": [
    "deck.print_deck()"
   ]
  },
  {
   "cell_type": "code",
   "execution_count": 4,
   "id": "e55c6f3d",
   "metadata": {},
   "outputs": [
    {
     "data": {
      "text/plain": [
       "52"
      ]
     },
     "execution_count": 4,
     "metadata": {},
     "output_type": "execute_result"
    }
   ],
   "source": [
    "deck.get_deck_size()"
   ]
  },
  {
   "cell_type": "code",
   "execution_count": 5,
   "id": "ee87f255",
   "metadata": {},
   "outputs": [
    {
     "name": "stdout",
     "output_type": "stream",
     "text": [
      "Card(rank=4, suit=Spades, card_name=4-Spades, rank_value=4)\n"
     ]
    }
   ],
   "source": [
    "c = deck.deal()\n",
    "print(c)"
   ]
  },
  {
   "cell_type": "code",
   "execution_count": 6,
   "id": "6238b358",
   "metadata": {},
   "outputs": [
    {
     "data": {
      "text/plain": [
       "51"
      ]
     },
     "execution_count": 6,
     "metadata": {},
     "output_type": "execute_result"
    }
   ],
   "source": [
    "deck.get_deck_size()"
   ]
  },
  {
   "cell_type": "code",
   "execution_count": 7,
   "id": "4c686a9f",
   "metadata": {},
   "outputs": [
    {
     "name": "stdout",
     "output_type": "stream",
     "text": [
      "Card(rank=10, suit=Clubs, card_name=10-Clubs, rank_value=10)\n",
      "Card(rank=10, suit=Hearts, card_name=10-Hearts, rank_value=10)\n",
      "Card(rank=9, suit=Diamonds, card_name=9-Diamonds, rank_value=9)\n",
      "Card(rank=Q, suit=Spades, card_name=Q-Spades, rank_value=12)\n",
      "Card(rank=4, suit=Diamonds, card_name=4-Diamonds, rank_value=4)\n",
      "Card(rank=J, suit=Spades, card_name=J-Spades, rank_value=11)\n",
      "Card(rank=K, suit=Diamonds, card_name=K-Diamonds, rank_value=13)\n",
      "Card(rank=2, suit=Diamonds, card_name=2-Diamonds, rank_value=2)\n",
      "Card(rank=8, suit=Spades, card_name=8-Spades, rank_value=8)\n",
      "Card(rank=7, suit=Spades, card_name=7-Spades, rank_value=7)\n",
      "Card(rank=7, suit=Hearts, card_name=7-Hearts, rank_value=7)\n",
      "Card(rank=J, suit=Diamonds, card_name=J-Diamonds, rank_value=11)\n",
      "Card(rank=A, suit=Clubs, card_name=A-Clubs, rank_value=14)\n",
      "Card(rank=A, suit=Diamonds, card_name=A-Diamonds, rank_value=14)\n",
      "Card(rank=10, suit=Spades, card_name=10-Spades, rank_value=10)\n",
      "Card(rank=5, suit=Spades, card_name=5-Spades, rank_value=5)\n",
      "Card(rank=J, suit=Hearts, card_name=J-Hearts, rank_value=11)\n",
      "Card(rank=Q, suit=Clubs, card_name=Q-Clubs, rank_value=12)\n",
      "Card(rank=3, suit=Clubs, card_name=3-Clubs, rank_value=3)\n",
      "Card(rank=5, suit=Diamonds, card_name=5-Diamonds, rank_value=5)\n",
      "Card(rank=8, suit=Clubs, card_name=8-Clubs, rank_value=8)\n",
      "Card(rank=5, suit=Hearts, card_name=5-Hearts, rank_value=5)\n",
      "Card(rank=Q, suit=Diamonds, card_name=Q-Diamonds, rank_value=12)\n",
      "Card(rank=9, suit=Clubs, card_name=9-Clubs, rank_value=9)\n",
      "Card(rank=2, suit=Hearts, card_name=2-Hearts, rank_value=2)\n",
      "Card(rank=Q, suit=Hearts, card_name=Q-Hearts, rank_value=12)\n",
      "Card(rank=10, suit=Diamonds, card_name=10-Diamonds, rank_value=10)\n",
      "Card(rank=A, suit=Hearts, card_name=A-Hearts, rank_value=14)\n",
      "Card(rank=K, suit=Clubs, card_name=K-Clubs, rank_value=13)\n",
      "Card(rank=8, suit=Hearts, card_name=8-Hearts, rank_value=8)\n",
      "Card(rank=6, suit=Clubs, card_name=6-Clubs, rank_value=6)\n",
      "Card(rank=7, suit=Diamonds, card_name=7-Diamonds, rank_value=7)\n",
      "Card(rank=A, suit=Spades, card_name=A-Spades, rank_value=14)\n",
      "Card(rank=3, suit=Hearts, card_name=3-Hearts, rank_value=3)\n",
      "Card(rank=3, suit=Diamonds, card_name=3-Diamonds, rank_value=3)\n",
      "Card(rank=4, suit=Clubs, card_name=4-Clubs, rank_value=4)\n",
      "Card(rank=J, suit=Clubs, card_name=J-Clubs, rank_value=11)\n",
      "Card(rank=3, suit=Spades, card_name=3-Spades, rank_value=3)\n",
      "Card(rank=6, suit=Hearts, card_name=6-Hearts, rank_value=6)\n",
      "Card(rank=6, suit=Spades, card_name=6-Spades, rank_value=6)\n",
      "Card(rank=5, suit=Clubs, card_name=5-Clubs, rank_value=5)\n",
      "Card(rank=K, suit=Hearts, card_name=K-Hearts, rank_value=13)\n",
      "Card(rank=8, suit=Diamonds, card_name=8-Diamonds, rank_value=8)\n",
      "Card(rank=6, suit=Diamonds, card_name=6-Diamonds, rank_value=6)\n",
      "Card(rank=2, suit=Clubs, card_name=2-Clubs, rank_value=2)\n",
      "Card(rank=7, suit=Clubs, card_name=7-Clubs, rank_value=7)\n",
      "Card(rank=9, suit=Spades, card_name=9-Spades, rank_value=9)\n",
      "Card(rank=2, suit=Spades, card_name=2-Spades, rank_value=2)\n",
      "Card(rank=9, suit=Hearts, card_name=9-Hearts, rank_value=9)\n",
      "Card(rank=K, suit=Spades, card_name=K-Spades, rank_value=13)\n",
      "Card(rank=4, suit=Hearts, card_name=4-Hearts, rank_value=4)\n"
     ]
    }
   ],
   "source": [
    "while not deck.empty():\n",
    "    c = deck.deal()\n",
    "    print(c)"
   ]
  },
  {
   "cell_type": "code",
   "execution_count": 9,
   "id": "e1453617",
   "metadata": {},
   "outputs": [
    {
     "name": "stdout",
     "output_type": "stream",
     "text": [
      "Deck(cards=[])\n"
     ]
    }
   ],
   "source": [
    "print(deck)"
   ]
  },
  {
   "cell_type": "code",
   "execution_count": 10,
   "id": "593d37b4",
   "metadata": {},
   "outputs": [],
   "source": [
    "deck = Deck()"
   ]
  },
  {
   "cell_type": "code",
   "execution_count": 12,
   "id": "47d47de6",
   "metadata": {},
   "outputs": [
    {
     "name": "stdout",
     "output_type": "stream",
     "text": [
      "Deck(cards=[<engine.deck.Card object at 0x1052d9510>, <engine.deck.Card object at 0x1052c2f90>, <engine.deck.Card object at 0x105297910>, <engine.deck.Card object at 0x1052d8250>, <engine.deck.Card object at 0x1052d82d0>, <engine.deck.Card object at 0x1052d9210>, <engine.deck.Card object at 0x1052c1710>, <engine.deck.Card object at 0x1052d9390>, <engine.deck.Card object at 0x1052d9090>, <engine.deck.Card object at 0x1052d9010>, <engine.deck.Card object at 0x1052d8a50>, <engine.deck.Card object at 0x1052d8f50>, <engine.deck.Card object at 0x1052d9a50>, <engine.deck.Card object at 0x1052c2dd0>, <engine.deck.Card object at 0x1052c0c90>, <engine.deck.Card object at 0x105294e50>, <engine.deck.Card object at 0x1052d8990>, <engine.deck.Card object at 0x1052c2150>, <engine.deck.Card object at 0x1052d9690>, <engine.deck.Card object at 0x1052d92d0>, <engine.deck.Card object at 0x1052ca9d0>, <engine.deck.Card object at 0x1052d8810>, <engine.deck.Card object at 0x1052c3fd0>, <engine.deck.Card object at 0x1052d8b10>, <engine.deck.Card object at 0x1052c0150>, <engine.deck.Card object at 0x1052c1150>, <engine.deck.Card object at 0x1052c3f90>, <engine.deck.Card object at 0x1052d8850>, <engine.deck.Card object at 0x1052d9810>, <engine.deck.Card object at 0x1052c3f10>, <engine.deck.Card object at 0x1052d95d0>, <engine.deck.Card object at 0x1052c3010>, <engine.deck.Card object at 0x1052cb790>, <engine.deck.Card object at 0x1052c2490>, <engine.deck.Card object at 0x1052c32d0>, <engine.deck.Card object at 0x1052c17d0>, <engine.deck.Card object at 0x1052c1a90>, <engine.deck.Card object at 0x1052c0790>, <engine.deck.Card object at 0x1052d9110>, <engine.deck.Card object at 0x1052947d0>, <engine.deck.Card object at 0x1052ca690>, <engine.deck.Card object at 0x1052d9990>, <engine.deck.Card object at 0x105296b10>, <engine.deck.Card object at 0x1052570d0>, <engine.deck.Card object at 0x1052cb6d0>, <engine.deck.Card object at 0x1052d9450>, <engine.deck.Card object at 0x1052d9750>, <engine.deck.Card object at 0x1052c0690>, <engine.deck.Card object at 0x1052d98d0>, <engine.deck.Card object at 0x1052c11d0>, <engine.deck.Card object at 0x105294b50>, <engine.deck.Card object at 0x105297c10>])\n"
     ]
    }
   ],
   "source": [
    "print(deck)"
   ]
  },
  {
   "cell_type": "code",
   "execution_count": null,
   "id": "88173a05",
   "metadata": {},
   "outputs": [],
   "source": []
  }
 ],
 "metadata": {
  "kernelspec": {
   "display_name": "Python 3 (ipykernel)",
   "language": "python",
   "name": "python3"
  },
  "language_info": {
   "codemirror_mode": {
    "name": "ipython",
    "version": 3
   },
   "file_extension": ".py",
   "mimetype": "text/x-python",
   "name": "python",
   "nbconvert_exporter": "python",
   "pygments_lexer": "ipython3",
   "version": "3.11.1"
  }
 },
 "nbformat": 4,
 "nbformat_minor": 5
}
