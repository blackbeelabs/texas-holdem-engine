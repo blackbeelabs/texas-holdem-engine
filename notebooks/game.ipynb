{
 "cells": [
  {
   "cell_type": "code",
   "execution_count": 1,
   "id": "ece1e044",
   "metadata": {},
   "outputs": [],
   "source": [
    "from engine.player import Player"
   ]
  },
  {
   "cell_type": "code",
   "execution_count": 2,
   "id": "b1b0c677",
   "metadata": {},
   "outputs": [],
   "source": [
    "from engine.single_game import SingleGame"
   ]
  },
  {
   "cell_type": "code",
   "execution_count": 3,
   "id": "8b874b9b",
   "metadata": {},
   "outputs": [],
   "source": [
    "game = SingleGame()\n",
    "game.register_player(Player(\n",
    "    name=\"a\"\n",
    "))\n",
    "game.register_player(Player(\n",
    "    name=\"b\"\n",
    "))\n",
    "game.register_player(Player(\n",
    "    name=\"c\"\n",
    "))"
   ]
  },
  {
   "cell_type": "code",
   "execution_count": 4,
   "id": "36f53c31",
   "metadata": {},
   "outputs": [
    {
     "name": "stdout",
     "output_type": "stream",
     "text": [
      "Card(rank=2, suit=Diamonds, card_name=2-Diamonds, rank_value=2)\n",
      "Card(rank=Q, suit=Hearts, card_name=Q-Hearts, rank_value=12)\n",
      "Card(rank=J, suit=Spades, card_name=J-Spades, rank_value=11)\n",
      "Card(rank=8, suit=Diamonds, card_name=8-Diamonds, rank_value=8)\n",
      "Card(rank=8, suit=Spades, card_name=8-Spades, rank_value=8)\n",
      "Card(rank=4, suit=Clubs, card_name=4-Clubs, rank_value=4)\n",
      "Card(rank=9, suit=Clubs, card_name=9-Clubs, rank_value=9)\n",
      "Card(rank=10, suit=Diamonds, card_name=10-Diamonds, rank_value=10)\n",
      "Card(rank=10, suit=Hearts, card_name=10-Hearts, rank_value=10)\n",
      "Card(rank=6, suit=Diamonds, card_name=6-Diamonds, rank_value=6)\n",
      "Card(rank=Q, suit=Spades, card_name=Q-Spades, rank_value=12)\n",
      "Card(rank=7, suit=Spades, card_name=7-Spades, rank_value=7)\n",
      "Card(rank=4, suit=Spades, card_name=4-Spades, rank_value=4)\n",
      "Card(rank=Q, suit=Diamonds, card_name=Q-Diamonds, rank_value=12)\n",
      "Card(rank=6, suit=Hearts, card_name=6-Hearts, rank_value=6)\n",
      "Card(rank=K, suit=Clubs, card_name=K-Clubs, rank_value=13)\n",
      "Card(rank=7, suit=Hearts, card_name=7-Hearts, rank_value=7)\n",
      "Card(rank=A, suit=Diamonds, card_name=A-Diamonds, rank_value=14)\n",
      "Card(rank=K, suit=Hearts, card_name=K-Hearts, rank_value=13)\n",
      "Card(rank=7, suit=Clubs, card_name=7-Clubs, rank_value=7)\n",
      "Card(rank=J, suit=Diamonds, card_name=J-Diamonds, rank_value=11)\n",
      "Card(rank=5, suit=Spades, card_name=5-Spades, rank_value=5)\n",
      "Card(rank=9, suit=Hearts, card_name=9-Hearts, rank_value=9)\n",
      "Card(rank=5, suit=Hearts, card_name=5-Hearts, rank_value=5)\n",
      "Card(rank=3, suit=Hearts, card_name=3-Hearts, rank_value=3)\n",
      "Card(rank=A, suit=Spades, card_name=A-Spades, rank_value=14)\n",
      "Card(rank=A, suit=Clubs, card_name=A-Clubs, rank_value=14)\n",
      "Card(rank=6, suit=Clubs, card_name=6-Clubs, rank_value=6)\n",
      "Card(rank=2, suit=Spades, card_name=2-Spades, rank_value=2)\n",
      "Card(rank=2, suit=Clubs, card_name=2-Clubs, rank_value=2)\n",
      "Card(rank=5, suit=Diamonds, card_name=5-Diamonds, rank_value=5)\n",
      "Card(rank=2, suit=Hearts, card_name=2-Hearts, rank_value=2)\n",
      "Card(rank=K, suit=Diamonds, card_name=K-Diamonds, rank_value=13)\n",
      "Card(rank=A, suit=Hearts, card_name=A-Hearts, rank_value=14)\n",
      "Card(rank=8, suit=Hearts, card_name=8-Hearts, rank_value=8)\n",
      "Card(rank=3, suit=Diamonds, card_name=3-Diamonds, rank_value=3)\n",
      "Card(rank=J, suit=Clubs, card_name=J-Clubs, rank_value=11)\n",
      "Card(rank=10, suit=Clubs, card_name=10-Clubs, rank_value=10)\n",
      "Card(rank=9, suit=Spades, card_name=9-Spades, rank_value=9)\n",
      "Card(rank=6, suit=Spades, card_name=6-Spades, rank_value=6)\n",
      "Card(rank=4, suit=Diamonds, card_name=4-Diamonds, rank_value=4)\n",
      "Card(rank=3, suit=Spades, card_name=3-Spades, rank_value=3)\n",
      "Card(rank=10, suit=Spades, card_name=10-Spades, rank_value=10)\n",
      "Card(rank=3, suit=Clubs, card_name=3-Clubs, rank_value=3)\n",
      "Card(rank=5, suit=Clubs, card_name=5-Clubs, rank_value=5)\n",
      "Card(rank=8, suit=Clubs, card_name=8-Clubs, rank_value=8)\n",
      "Card(rank=K, suit=Spades, card_name=K-Spades, rank_value=13)\n",
      "Card(rank=4, suit=Hearts, card_name=4-Hearts, rank_value=4)\n",
      "Card(rank=9, suit=Diamonds, card_name=9-Diamonds, rank_value=9)\n",
      "Card(rank=J, suit=Hearts, card_name=J-Hearts, rank_value=11)\n",
      "Card(rank=7, suit=Diamonds, card_name=7-Diamonds, rank_value=7)\n",
      "Card(rank=Q, suit=Clubs, card_name=Q-Clubs, rank_value=12)\n",
      "52\n"
     ]
    }
   ],
   "source": [
    "for c in game.deck.cards:\n",
    "    print(c)\n",
    "print(game.deck.get_deck_size())"
   ]
  },
  {
   "cell_type": "code",
   "execution_count": 5,
   "id": "18340b04",
   "metadata": {
    "scrolled": false
   },
   "outputs": [
    {
     "name": "stdout",
     "output_type": "stream",
     "text": [
      "Current betting round: BettingRound.PREFLOP\n",
      "Players:\n",
      "  a (active): (No cards)\n",
      "  b (active): (No cards)\n",
      "  c (active): (No cards)\n",
      "Community cards:\n",
      "  (No community cards)\n",
      "Deck:\n",
      "Card(rank=2, suit=Diamonds, card_name=2-Diamonds, rank_value=2)\n",
      "Card(rank=Q, suit=Hearts, card_name=Q-Hearts, rank_value=12)\n",
      "Card(rank=J, suit=Spades, card_name=J-Spades, rank_value=11)\n",
      "Card(rank=8, suit=Diamonds, card_name=8-Diamonds, rank_value=8)\n",
      "Card(rank=8, suit=Spades, card_name=8-Spades, rank_value=8)\n",
      "Card(rank=4, suit=Clubs, card_name=4-Clubs, rank_value=4)\n",
      "Card(rank=9, suit=Clubs, card_name=9-Clubs, rank_value=9)\n",
      "Card(rank=10, suit=Diamonds, card_name=10-Diamonds, rank_value=10)\n",
      "Card(rank=10, suit=Hearts, card_name=10-Hearts, rank_value=10)\n",
      "Card(rank=6, suit=Diamonds, card_name=6-Diamonds, rank_value=6)\n",
      "Card(rank=Q, suit=Spades, card_name=Q-Spades, rank_value=12)\n",
      "Card(rank=7, suit=Spades, card_name=7-Spades, rank_value=7)\n",
      "Card(rank=4, suit=Spades, card_name=4-Spades, rank_value=4)\n",
      "Card(rank=Q, suit=Diamonds, card_name=Q-Diamonds, rank_value=12)\n",
      "Card(rank=6, suit=Hearts, card_name=6-Hearts, rank_value=6)\n",
      "Card(rank=K, suit=Clubs, card_name=K-Clubs, rank_value=13)\n",
      "Card(rank=7, suit=Hearts, card_name=7-Hearts, rank_value=7)\n",
      "Card(rank=A, suit=Diamonds, card_name=A-Diamonds, rank_value=14)\n",
      "Card(rank=K, suit=Hearts, card_name=K-Hearts, rank_value=13)\n",
      "Card(rank=7, suit=Clubs, card_name=7-Clubs, rank_value=7)\n",
      "Card(rank=J, suit=Diamonds, card_name=J-Diamonds, rank_value=11)\n",
      "Card(rank=5, suit=Spades, card_name=5-Spades, rank_value=5)\n",
      "Card(rank=9, suit=Hearts, card_name=9-Hearts, rank_value=9)\n",
      "Card(rank=5, suit=Hearts, card_name=5-Hearts, rank_value=5)\n",
      "Card(rank=3, suit=Hearts, card_name=3-Hearts, rank_value=3)\n",
      "Card(rank=A, suit=Spades, card_name=A-Spades, rank_value=14)\n",
      "Card(rank=A, suit=Clubs, card_name=A-Clubs, rank_value=14)\n",
      "Card(rank=6, suit=Clubs, card_name=6-Clubs, rank_value=6)\n",
      "Card(rank=2, suit=Spades, card_name=2-Spades, rank_value=2)\n",
      "Card(rank=2, suit=Clubs, card_name=2-Clubs, rank_value=2)\n",
      "Card(rank=5, suit=Diamonds, card_name=5-Diamonds, rank_value=5)\n",
      "Card(rank=2, suit=Hearts, card_name=2-Hearts, rank_value=2)\n",
      "Card(rank=K, suit=Diamonds, card_name=K-Diamonds, rank_value=13)\n",
      "Card(rank=A, suit=Hearts, card_name=A-Hearts, rank_value=14)\n",
      "Card(rank=8, suit=Hearts, card_name=8-Hearts, rank_value=8)\n",
      "Card(rank=3, suit=Diamonds, card_name=3-Diamonds, rank_value=3)\n",
      "Card(rank=J, suit=Clubs, card_name=J-Clubs, rank_value=11)\n",
      "Card(rank=10, suit=Clubs, card_name=10-Clubs, rank_value=10)\n",
      "Card(rank=9, suit=Spades, card_name=9-Spades, rank_value=9)\n",
      "Card(rank=6, suit=Spades, card_name=6-Spades, rank_value=6)\n",
      "Card(rank=4, suit=Diamonds, card_name=4-Diamonds, rank_value=4)\n",
      "Card(rank=3, suit=Spades, card_name=3-Spades, rank_value=3)\n",
      "Card(rank=10, suit=Spades, card_name=10-Spades, rank_value=10)\n",
      "Card(rank=3, suit=Clubs, card_name=3-Clubs, rank_value=3)\n",
      "Card(rank=5, suit=Clubs, card_name=5-Clubs, rank_value=5)\n",
      "Card(rank=8, suit=Clubs, card_name=8-Clubs, rank_value=8)\n",
      "Card(rank=K, suit=Spades, card_name=K-Spades, rank_value=13)\n",
      "Card(rank=4, suit=Hearts, card_name=4-Hearts, rank_value=4)\n",
      "Card(rank=9, suit=Diamonds, card_name=9-Diamonds, rank_value=9)\n",
      "Card(rank=J, suit=Hearts, card_name=J-Hearts, rank_value=11)\n",
      "Card(rank=7, suit=Diamonds, card_name=7-Diamonds, rank_value=7)\n",
      "Card(rank=Q, suit=Clubs, card_name=Q-Clubs, rank_value=12)\n",
      "Bets:\n",
      "Pot: 0\n"
     ]
    }
   ],
   "source": [
    "game.print_current_state()"
   ]
  },
  {
   "cell_type": "code",
   "execution_count": 6,
   "id": "97b79f2e",
   "metadata": {},
   "outputs": [],
   "source": [
    "game.post_blinds()"
   ]
  },
  {
   "cell_type": "code",
   "execution_count": 7,
   "id": "da173abb",
   "metadata": {},
   "outputs": [
    {
     "name": "stdout",
     "output_type": "stream",
     "text": [
      "Dealt hole cards to 3 players\n"
     ]
    }
   ],
   "source": [
    "game.deal_hole_cards()"
   ]
  },
  {
   "cell_type": "code",
   "execution_count": 8,
   "id": "aadf3540",
   "metadata": {},
   "outputs": [
    {
     "name": "stdout",
     "output_type": "stream",
     "text": [
      "Current betting round: BettingRound.PREFLOP\n",
      "Players:\n",
      "  a (active): Card(rank=Q, suit=Clubs, card_name=Q-Clubs, rank_value=12), Card(rank=9, suit=Diamonds, card_name=9-Diamonds, rank_value=9)\n",
      "  b (active): Card(rank=7, suit=Diamonds, card_name=7-Diamonds, rank_value=7), Card(rank=4, suit=Hearts, card_name=4-Hearts, rank_value=4)\n",
      "  c (active): Card(rank=J, suit=Hearts, card_name=J-Hearts, rank_value=11), Card(rank=K, suit=Spades, card_name=K-Spades, rank_value=13)\n",
      "Community cards:\n",
      "  (No community cards)\n",
      "Deck:\n",
      "Card(rank=2, suit=Diamonds, card_name=2-Diamonds, rank_value=2)\n",
      "Card(rank=Q, suit=Hearts, card_name=Q-Hearts, rank_value=12)\n",
      "Card(rank=J, suit=Spades, card_name=J-Spades, rank_value=11)\n",
      "Card(rank=8, suit=Diamonds, card_name=8-Diamonds, rank_value=8)\n",
      "Card(rank=8, suit=Spades, card_name=8-Spades, rank_value=8)\n",
      "Card(rank=4, suit=Clubs, card_name=4-Clubs, rank_value=4)\n",
      "Card(rank=9, suit=Clubs, card_name=9-Clubs, rank_value=9)\n",
      "Card(rank=10, suit=Diamonds, card_name=10-Diamonds, rank_value=10)\n",
      "Card(rank=10, suit=Hearts, card_name=10-Hearts, rank_value=10)\n",
      "Card(rank=6, suit=Diamonds, card_name=6-Diamonds, rank_value=6)\n",
      "Card(rank=Q, suit=Spades, card_name=Q-Spades, rank_value=12)\n",
      "Card(rank=7, suit=Spades, card_name=7-Spades, rank_value=7)\n",
      "Card(rank=4, suit=Spades, card_name=4-Spades, rank_value=4)\n",
      "Card(rank=Q, suit=Diamonds, card_name=Q-Diamonds, rank_value=12)\n",
      "Card(rank=6, suit=Hearts, card_name=6-Hearts, rank_value=6)\n",
      "Card(rank=K, suit=Clubs, card_name=K-Clubs, rank_value=13)\n",
      "Card(rank=7, suit=Hearts, card_name=7-Hearts, rank_value=7)\n",
      "Card(rank=A, suit=Diamonds, card_name=A-Diamonds, rank_value=14)\n",
      "Card(rank=K, suit=Hearts, card_name=K-Hearts, rank_value=13)\n",
      "Card(rank=7, suit=Clubs, card_name=7-Clubs, rank_value=7)\n",
      "Card(rank=J, suit=Diamonds, card_name=J-Diamonds, rank_value=11)\n",
      "Card(rank=5, suit=Spades, card_name=5-Spades, rank_value=5)\n",
      "Card(rank=9, suit=Hearts, card_name=9-Hearts, rank_value=9)\n",
      "Card(rank=5, suit=Hearts, card_name=5-Hearts, rank_value=5)\n",
      "Card(rank=3, suit=Hearts, card_name=3-Hearts, rank_value=3)\n",
      "Card(rank=A, suit=Spades, card_name=A-Spades, rank_value=14)\n",
      "Card(rank=A, suit=Clubs, card_name=A-Clubs, rank_value=14)\n",
      "Card(rank=6, suit=Clubs, card_name=6-Clubs, rank_value=6)\n",
      "Card(rank=2, suit=Spades, card_name=2-Spades, rank_value=2)\n",
      "Card(rank=2, suit=Clubs, card_name=2-Clubs, rank_value=2)\n",
      "Card(rank=5, suit=Diamonds, card_name=5-Diamonds, rank_value=5)\n",
      "Card(rank=2, suit=Hearts, card_name=2-Hearts, rank_value=2)\n",
      "Card(rank=K, suit=Diamonds, card_name=K-Diamonds, rank_value=13)\n",
      "Card(rank=A, suit=Hearts, card_name=A-Hearts, rank_value=14)\n",
      "Card(rank=8, suit=Hearts, card_name=8-Hearts, rank_value=8)\n",
      "Card(rank=3, suit=Diamonds, card_name=3-Diamonds, rank_value=3)\n",
      "Card(rank=J, suit=Clubs, card_name=J-Clubs, rank_value=11)\n",
      "Card(rank=10, suit=Clubs, card_name=10-Clubs, rank_value=10)\n",
      "Card(rank=9, suit=Spades, card_name=9-Spades, rank_value=9)\n",
      "Card(rank=6, suit=Spades, card_name=6-Spades, rank_value=6)\n",
      "Card(rank=4, suit=Diamonds, card_name=4-Diamonds, rank_value=4)\n",
      "Card(rank=3, suit=Spades, card_name=3-Spades, rank_value=3)\n",
      "Card(rank=10, suit=Spades, card_name=10-Spades, rank_value=10)\n",
      "Card(rank=3, suit=Clubs, card_name=3-Clubs, rank_value=3)\n",
      "Card(rank=5, suit=Clubs, card_name=5-Clubs, rank_value=5)\n",
      "Card(rank=8, suit=Clubs, card_name=8-Clubs, rank_value=8)\n",
      "Bets:\n",
      "  a: 10\n",
      "  b: 20\n",
      "Pot: 30\n"
     ]
    }
   ],
   "source": [
    "game.print_current_state()"
   ]
  },
  {
   "cell_type": "code",
   "execution_count": 9,
   "id": "de372fc9",
   "metadata": {},
   "outputs": [
    {
     "name": "stdout",
     "output_type": "stream",
     "text": [
      "Betting round advancing from preflop to flop.\n"
     ]
    }
   ],
   "source": [
    "game.advance_betting_round()\n",
    "game.deal_community_cards()"
   ]
  },
  {
   "cell_type": "code",
   "execution_count": 10,
   "id": "e4c54324",
   "metadata": {},
   "outputs": [
    {
     "name": "stdout",
     "output_type": "stream",
     "text": [
      "Current betting round: BettingRound.FLOP\n",
      "Players:\n",
      "  a (active): Card(rank=Q, suit=Clubs, card_name=Q-Clubs, rank_value=12), Card(rank=9, suit=Diamonds, card_name=9-Diamonds, rank_value=9)\n",
      "  b (active): Card(rank=7, suit=Diamonds, card_name=7-Diamonds, rank_value=7), Card(rank=4, suit=Hearts, card_name=4-Hearts, rank_value=4)\n",
      "  c (active): Card(rank=J, suit=Hearts, card_name=J-Hearts, rank_value=11), Card(rank=K, suit=Spades, card_name=K-Spades, rank_value=13)\n",
      "Community cards:\n",
      "  Card(rank=5, suit=Clubs, card_name=5-Clubs, rank_value=5)\n",
      "  Card(rank=3, suit=Clubs, card_name=3-Clubs, rank_value=3)\n",
      "  Card(rank=10, suit=Spades, card_name=10-Spades, rank_value=10)\n",
      "Deck:\n",
      "Card(rank=2, suit=Diamonds, card_name=2-Diamonds, rank_value=2)\n",
      "Card(rank=Q, suit=Hearts, card_name=Q-Hearts, rank_value=12)\n",
      "Card(rank=J, suit=Spades, card_name=J-Spades, rank_value=11)\n",
      "Card(rank=8, suit=Diamonds, card_name=8-Diamonds, rank_value=8)\n",
      "Card(rank=8, suit=Spades, card_name=8-Spades, rank_value=8)\n",
      "Card(rank=4, suit=Clubs, card_name=4-Clubs, rank_value=4)\n",
      "Card(rank=9, suit=Clubs, card_name=9-Clubs, rank_value=9)\n",
      "Card(rank=10, suit=Diamonds, card_name=10-Diamonds, rank_value=10)\n",
      "Card(rank=10, suit=Hearts, card_name=10-Hearts, rank_value=10)\n",
      "Card(rank=6, suit=Diamonds, card_name=6-Diamonds, rank_value=6)\n",
      "Card(rank=Q, suit=Spades, card_name=Q-Spades, rank_value=12)\n",
      "Card(rank=7, suit=Spades, card_name=7-Spades, rank_value=7)\n",
      "Card(rank=4, suit=Spades, card_name=4-Spades, rank_value=4)\n",
      "Card(rank=Q, suit=Diamonds, card_name=Q-Diamonds, rank_value=12)\n",
      "Card(rank=6, suit=Hearts, card_name=6-Hearts, rank_value=6)\n",
      "Card(rank=K, suit=Clubs, card_name=K-Clubs, rank_value=13)\n",
      "Card(rank=7, suit=Hearts, card_name=7-Hearts, rank_value=7)\n",
      "Card(rank=A, suit=Diamonds, card_name=A-Diamonds, rank_value=14)\n",
      "Card(rank=K, suit=Hearts, card_name=K-Hearts, rank_value=13)\n",
      "Card(rank=7, suit=Clubs, card_name=7-Clubs, rank_value=7)\n",
      "Card(rank=J, suit=Diamonds, card_name=J-Diamonds, rank_value=11)\n",
      "Card(rank=5, suit=Spades, card_name=5-Spades, rank_value=5)\n",
      "Card(rank=9, suit=Hearts, card_name=9-Hearts, rank_value=9)\n",
      "Card(rank=5, suit=Hearts, card_name=5-Hearts, rank_value=5)\n",
      "Card(rank=3, suit=Hearts, card_name=3-Hearts, rank_value=3)\n",
      "Card(rank=A, suit=Spades, card_name=A-Spades, rank_value=14)\n",
      "Card(rank=A, suit=Clubs, card_name=A-Clubs, rank_value=14)\n",
      "Card(rank=6, suit=Clubs, card_name=6-Clubs, rank_value=6)\n",
      "Card(rank=2, suit=Spades, card_name=2-Spades, rank_value=2)\n",
      "Card(rank=2, suit=Clubs, card_name=2-Clubs, rank_value=2)\n",
      "Card(rank=5, suit=Diamonds, card_name=5-Diamonds, rank_value=5)\n",
      "Card(rank=2, suit=Hearts, card_name=2-Hearts, rank_value=2)\n",
      "Card(rank=K, suit=Diamonds, card_name=K-Diamonds, rank_value=13)\n",
      "Card(rank=A, suit=Hearts, card_name=A-Hearts, rank_value=14)\n",
      "Card(rank=8, suit=Hearts, card_name=8-Hearts, rank_value=8)\n",
      "Card(rank=3, suit=Diamonds, card_name=3-Diamonds, rank_value=3)\n",
      "Card(rank=J, suit=Clubs, card_name=J-Clubs, rank_value=11)\n",
      "Card(rank=10, suit=Clubs, card_name=10-Clubs, rank_value=10)\n",
      "Card(rank=9, suit=Spades, card_name=9-Spades, rank_value=9)\n",
      "Card(rank=6, suit=Spades, card_name=6-Spades, rank_value=6)\n",
      "Card(rank=4, suit=Diamonds, card_name=4-Diamonds, rank_value=4)\n",
      "Card(rank=3, suit=Spades, card_name=3-Spades, rank_value=3)\n",
      "Bets:\n",
      "  a: 10\n",
      "  b: 20\n",
      "Pot: 30\n"
     ]
    }
   ],
   "source": [
    "game.print_current_state()"
   ]
  },
  {
   "cell_type": "code",
   "execution_count": 11,
   "id": "854a0084",
   "metadata": {},
   "outputs": [
    {
     "name": "stdout",
     "output_type": "stream",
     "text": [
      "Betting round advancing from flop to turn.\n"
     ]
    }
   ],
   "source": [
    "game.advance_betting_round()"
   ]
  },
  {
   "cell_type": "code",
   "execution_count": 12,
   "id": "6f6c97c9",
   "metadata": {},
   "outputs": [],
   "source": [
    "game.deal_community_cards()"
   ]
  },
  {
   "cell_type": "code",
   "execution_count": 13,
   "id": "234a3c41",
   "metadata": {},
   "outputs": [
    {
     "name": "stdout",
     "output_type": "stream",
     "text": [
      "Current betting round: BettingRound.TURN\n",
      "Players:\n",
      "  a (active): Card(rank=Q, suit=Clubs, card_name=Q-Clubs, rank_value=12), Card(rank=9, suit=Diamonds, card_name=9-Diamonds, rank_value=9)\n",
      "  b (active): Card(rank=7, suit=Diamonds, card_name=7-Diamonds, rank_value=7), Card(rank=4, suit=Hearts, card_name=4-Hearts, rank_value=4)\n",
      "  c (active): Card(rank=J, suit=Hearts, card_name=J-Hearts, rank_value=11), Card(rank=K, suit=Spades, card_name=K-Spades, rank_value=13)\n",
      "Community cards:\n",
      "  Card(rank=5, suit=Clubs, card_name=5-Clubs, rank_value=5)\n",
      "  Card(rank=3, suit=Clubs, card_name=3-Clubs, rank_value=3)\n",
      "  Card(rank=10, suit=Spades, card_name=10-Spades, rank_value=10)\n",
      "  Card(rank=4, suit=Diamonds, card_name=4-Diamonds, rank_value=4)\n",
      "Deck:\n",
      "Card(rank=2, suit=Diamonds, card_name=2-Diamonds, rank_value=2)\n",
      "Card(rank=Q, suit=Hearts, card_name=Q-Hearts, rank_value=12)\n",
      "Card(rank=J, suit=Spades, card_name=J-Spades, rank_value=11)\n",
      "Card(rank=8, suit=Diamonds, card_name=8-Diamonds, rank_value=8)\n",
      "Card(rank=8, suit=Spades, card_name=8-Spades, rank_value=8)\n",
      "Card(rank=4, suit=Clubs, card_name=4-Clubs, rank_value=4)\n",
      "Card(rank=9, suit=Clubs, card_name=9-Clubs, rank_value=9)\n",
      "Card(rank=10, suit=Diamonds, card_name=10-Diamonds, rank_value=10)\n",
      "Card(rank=10, suit=Hearts, card_name=10-Hearts, rank_value=10)\n",
      "Card(rank=6, suit=Diamonds, card_name=6-Diamonds, rank_value=6)\n",
      "Card(rank=Q, suit=Spades, card_name=Q-Spades, rank_value=12)\n",
      "Card(rank=7, suit=Spades, card_name=7-Spades, rank_value=7)\n",
      "Card(rank=4, suit=Spades, card_name=4-Spades, rank_value=4)\n",
      "Card(rank=Q, suit=Diamonds, card_name=Q-Diamonds, rank_value=12)\n",
      "Card(rank=6, suit=Hearts, card_name=6-Hearts, rank_value=6)\n",
      "Card(rank=K, suit=Clubs, card_name=K-Clubs, rank_value=13)\n",
      "Card(rank=7, suit=Hearts, card_name=7-Hearts, rank_value=7)\n",
      "Card(rank=A, suit=Diamonds, card_name=A-Diamonds, rank_value=14)\n",
      "Card(rank=K, suit=Hearts, card_name=K-Hearts, rank_value=13)\n",
      "Card(rank=7, suit=Clubs, card_name=7-Clubs, rank_value=7)\n",
      "Card(rank=J, suit=Diamonds, card_name=J-Diamonds, rank_value=11)\n",
      "Card(rank=5, suit=Spades, card_name=5-Spades, rank_value=5)\n",
      "Card(rank=9, suit=Hearts, card_name=9-Hearts, rank_value=9)\n",
      "Card(rank=5, suit=Hearts, card_name=5-Hearts, rank_value=5)\n",
      "Card(rank=3, suit=Hearts, card_name=3-Hearts, rank_value=3)\n",
      "Card(rank=A, suit=Spades, card_name=A-Spades, rank_value=14)\n",
      "Card(rank=A, suit=Clubs, card_name=A-Clubs, rank_value=14)\n",
      "Card(rank=6, suit=Clubs, card_name=6-Clubs, rank_value=6)\n",
      "Card(rank=2, suit=Spades, card_name=2-Spades, rank_value=2)\n",
      "Card(rank=2, suit=Clubs, card_name=2-Clubs, rank_value=2)\n",
      "Card(rank=5, suit=Diamonds, card_name=5-Diamonds, rank_value=5)\n",
      "Card(rank=2, suit=Hearts, card_name=2-Hearts, rank_value=2)\n",
      "Card(rank=K, suit=Diamonds, card_name=K-Diamonds, rank_value=13)\n",
      "Card(rank=A, suit=Hearts, card_name=A-Hearts, rank_value=14)\n",
      "Card(rank=8, suit=Hearts, card_name=8-Hearts, rank_value=8)\n",
      "Card(rank=3, suit=Diamonds, card_name=3-Diamonds, rank_value=3)\n",
      "Card(rank=J, suit=Clubs, card_name=J-Clubs, rank_value=11)\n",
      "Card(rank=10, suit=Clubs, card_name=10-Clubs, rank_value=10)\n",
      "Card(rank=9, suit=Spades, card_name=9-Spades, rank_value=9)\n",
      "Card(rank=6, suit=Spades, card_name=6-Spades, rank_value=6)\n",
      "Bets:\n",
      "  a: 10\n",
      "  b: 20\n",
      "Pot: 30\n"
     ]
    }
   ],
   "source": [
    "game.print_current_state()"
   ]
  },
  {
   "cell_type": "code",
   "execution_count": 14,
   "id": "8f1fb932",
   "metadata": {},
   "outputs": [
    {
     "name": "stdout",
     "output_type": "stream",
     "text": [
      "Betting round advancing from turn to river.\n"
     ]
    }
   ],
   "source": [
    "game.advance_betting_round()"
   ]
  },
  {
   "cell_type": "code",
   "execution_count": 15,
   "id": "d62f4675",
   "metadata": {},
   "outputs": [],
   "source": [
    "game.deal_community_cards()"
   ]
  },
  {
   "cell_type": "code",
   "execution_count": 16,
   "id": "f7203716",
   "metadata": {},
   "outputs": [
    {
     "name": "stdout",
     "output_type": "stream",
     "text": [
      "Current betting round: BettingRound.RIVER\n",
      "Players:\n",
      "  a (active): Card(rank=Q, suit=Clubs, card_name=Q-Clubs, rank_value=12), Card(rank=9, suit=Diamonds, card_name=9-Diamonds, rank_value=9)\n",
      "  b (active): Card(rank=7, suit=Diamonds, card_name=7-Diamonds, rank_value=7), Card(rank=4, suit=Hearts, card_name=4-Hearts, rank_value=4)\n",
      "  c (active): Card(rank=J, suit=Hearts, card_name=J-Hearts, rank_value=11), Card(rank=K, suit=Spades, card_name=K-Spades, rank_value=13)\n",
      "Community cards:\n",
      "  Card(rank=5, suit=Clubs, card_name=5-Clubs, rank_value=5)\n",
      "  Card(rank=3, suit=Clubs, card_name=3-Clubs, rank_value=3)\n",
      "  Card(rank=10, suit=Spades, card_name=10-Spades, rank_value=10)\n",
      "  Card(rank=4, suit=Diamonds, card_name=4-Diamonds, rank_value=4)\n",
      "  Card(rank=9, suit=Spades, card_name=9-Spades, rank_value=9)\n",
      "Deck:\n",
      "Card(rank=2, suit=Diamonds, card_name=2-Diamonds, rank_value=2)\n",
      "Card(rank=Q, suit=Hearts, card_name=Q-Hearts, rank_value=12)\n",
      "Card(rank=J, suit=Spades, card_name=J-Spades, rank_value=11)\n",
      "Card(rank=8, suit=Diamonds, card_name=8-Diamonds, rank_value=8)\n",
      "Card(rank=8, suit=Spades, card_name=8-Spades, rank_value=8)\n",
      "Card(rank=4, suit=Clubs, card_name=4-Clubs, rank_value=4)\n",
      "Card(rank=9, suit=Clubs, card_name=9-Clubs, rank_value=9)\n",
      "Card(rank=10, suit=Diamonds, card_name=10-Diamonds, rank_value=10)\n",
      "Card(rank=10, suit=Hearts, card_name=10-Hearts, rank_value=10)\n",
      "Card(rank=6, suit=Diamonds, card_name=6-Diamonds, rank_value=6)\n",
      "Card(rank=Q, suit=Spades, card_name=Q-Spades, rank_value=12)\n",
      "Card(rank=7, suit=Spades, card_name=7-Spades, rank_value=7)\n",
      "Card(rank=4, suit=Spades, card_name=4-Spades, rank_value=4)\n",
      "Card(rank=Q, suit=Diamonds, card_name=Q-Diamonds, rank_value=12)\n",
      "Card(rank=6, suit=Hearts, card_name=6-Hearts, rank_value=6)\n",
      "Card(rank=K, suit=Clubs, card_name=K-Clubs, rank_value=13)\n",
      "Card(rank=7, suit=Hearts, card_name=7-Hearts, rank_value=7)\n",
      "Card(rank=A, suit=Diamonds, card_name=A-Diamonds, rank_value=14)\n",
      "Card(rank=K, suit=Hearts, card_name=K-Hearts, rank_value=13)\n",
      "Card(rank=7, suit=Clubs, card_name=7-Clubs, rank_value=7)\n",
      "Card(rank=J, suit=Diamonds, card_name=J-Diamonds, rank_value=11)\n",
      "Card(rank=5, suit=Spades, card_name=5-Spades, rank_value=5)\n",
      "Card(rank=9, suit=Hearts, card_name=9-Hearts, rank_value=9)\n",
      "Card(rank=5, suit=Hearts, card_name=5-Hearts, rank_value=5)\n",
      "Card(rank=3, suit=Hearts, card_name=3-Hearts, rank_value=3)\n",
      "Card(rank=A, suit=Spades, card_name=A-Spades, rank_value=14)\n",
      "Card(rank=A, suit=Clubs, card_name=A-Clubs, rank_value=14)\n",
      "Card(rank=6, suit=Clubs, card_name=6-Clubs, rank_value=6)\n",
      "Card(rank=2, suit=Spades, card_name=2-Spades, rank_value=2)\n",
      "Card(rank=2, suit=Clubs, card_name=2-Clubs, rank_value=2)\n",
      "Card(rank=5, suit=Diamonds, card_name=5-Diamonds, rank_value=5)\n",
      "Card(rank=2, suit=Hearts, card_name=2-Hearts, rank_value=2)\n",
      "Card(rank=K, suit=Diamonds, card_name=K-Diamonds, rank_value=13)\n",
      "Card(rank=A, suit=Hearts, card_name=A-Hearts, rank_value=14)\n",
      "Card(rank=8, suit=Hearts, card_name=8-Hearts, rank_value=8)\n",
      "Card(rank=3, suit=Diamonds, card_name=3-Diamonds, rank_value=3)\n",
      "Card(rank=J, suit=Clubs, card_name=J-Clubs, rank_value=11)\n",
      "Card(rank=10, suit=Clubs, card_name=10-Clubs, rank_value=10)\n",
      "Bets:\n",
      "  a: 10\n",
      "  b: 20\n",
      "Pot: 30\n"
     ]
    }
   ],
   "source": [
    "game.print_current_state()"
   ]
  },
  {
   "cell_type": "code",
   "execution_count": null,
   "id": "fdf9987b",
   "metadata": {},
   "outputs": [],
   "source": []
  }
 ],
 "metadata": {
  "kernelspec": {
   "display_name": "Python 3 (ipykernel)",
   "language": "python",
   "name": "python3"
  },
  "language_info": {
   "codemirror_mode": {
    "name": "ipython",
    "version": 3
   },
   "file_extension": ".py",
   "mimetype": "text/x-python",
   "name": "python",
   "nbconvert_exporter": "python",
   "pygments_lexer": "ipython3",
   "version": "3.11.1"
  }
 },
 "nbformat": 4,
 "nbformat_minor": 5
}
